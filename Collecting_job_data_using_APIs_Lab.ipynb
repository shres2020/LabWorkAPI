{
  "cells": [
    {
      "cell_type": "markdown",
      "metadata": {
        "id": "ec8fdb47-0c50-4abd-9dff-f5190af26591"
      },
      "source": [
        "<p style=\"text-align:center\">\n",
        "    <a href=\"https://skills.network\" target=\"_blank\">\n",
        "    <img src=\"https://cf-courses-data.s3.us.cloud-object-storage.appdomain.cloud/assets/logos/SN_web_lightmode.png\" width=\"200\" alt=\"Skills Network Logo\">\n",
        "    </a>\n",
        "</p>\n"
      ]
    },
    {
      "cell_type": "markdown",
      "metadata": {
        "id": "bdcb77b0-c456-414f-8292-fdc23c465367"
      },
      "source": [
        "# **Collecting Job Data Using APIs**\n"
      ]
    },
    {
      "cell_type": "markdown",
      "metadata": {
        "id": "66077a61-e238-49f2-9271-6fc2d9f3eb53"
      },
      "source": [
        "Estimated time needed: **30** minutes\n"
      ]
    },
    {
      "cell_type": "markdown",
      "metadata": {
        "id": "824a50f2-a02f-4d85-9055-df15842e0cff"
      },
      "source": [
        "## Objectives\n"
      ]
    },
    {
      "cell_type": "markdown",
      "metadata": {
        "id": "2799b9ff-e57b-4f8f-ae27-53fa46f12c38"
      },
      "source": [
        "After completing this lab, you will be able to:\n"
      ]
    },
    {
      "cell_type": "markdown",
      "metadata": {
        "id": "d537cb47-da62-454d-876c-047a80d79d30"
      },
      "source": [
        "*   Collect job data using Jobs API\n",
        "*   Store the collected data into an excel spreadsheet.\n"
      ]
    },
    {
      "cell_type": "markdown",
      "metadata": {
        "id": "3080c9c6-01e6-4e9f-811b-ff93f0b4d2f1"
      },
      "source": [
        "><strong>Note: Before starting with the assignment make sure to read all the instructions and then move ahead with the coding part.</strong>\n"
      ]
    },
    {
      "cell_type": "markdown",
      "metadata": {
        "id": "8855d081-706a-40e4-ac56-b131ac18cff8"
      },
      "source": [
        "#### Instructions\n"
      ]
    },
    {
      "cell_type": "markdown",
      "metadata": {
        "id": "69587908-62b5-4e73-b7a1-a53528e1a6dd"
      },
      "source": [
        "To run the actual lab, firstly you need to click on the [Jobs_API](https://cf-courses-data.s3.us.cloud-object-storage.appdomain.cloud/IBM-DA0321EN-SkillsNetwork/labs/module%201/Accessing%20Data%20Using%20APIs/Jobs_API.ipynb) notebook link. The file contains flask code which is required to run the Jobs API data.\n",
        "\n",
        "Now, to run the code in the file that opens up follow the below steps.\n",
        "\n",
        "Step1: Download the file.\n",
        "\n",
        "Step2: Upload the file into your current Jupyter environment using the upload button in your Jupyter interface. Ensure that the file is in the same folder as your working .ipynb file.\n",
        "\n",
        "Step 2: If working in a local Jupyter environment, use the \"Upload\" button in your Jupyter interface to upload the Jobs_API notebook into the same folder as your current .ipynb file.\n",
        "\n",
        "<img src=\"https://cf-courses-data.s3.us.cloud-object-storage.appdomain.cloud/IBM-DA0321EN-SkillsNetwork/labs/module%201/Accessing%20Data%20Using%20APIs/Upload.PNG\">\n",
        "\n",
        "Step3:  Open the Jobs_API notebook, and run all the cells to start the Flask application. Once the server is running, you can access the API from the URL provided in the notebook.\n",
        "\n",
        "If you want to learn more about flask, which is optional, you can click on this link [here](https://cf-courses-data.s3.us.cloud-object-storage.appdomain.cloud/IBM-DA0321EN-SkillsNetwork/labs/module%201/Accessing%20Data%20Using%20APIs/FLASK_API.md.html).\n",
        "\n",
        "Once you run the flask code, you can start with your assignment.\n"
      ]
    },
    {
      "cell_type": "markdown",
      "metadata": {
        "id": "198cffea-b6de-41e2-ac12-fcff13bca00d"
      },
      "source": [
        "## Dataset Used in this Assignment\n",
        "\n",
        "The dataset used in this lab comes from the following source: https://www.kaggle.com/promptcloud/jobs-on-naukricom under the under a **Public Domain license**.\n",
        "\n",
        "> Note: We are using a modified subset of that dataset for the lab, so to follow the lab instructions successfully please use the dataset provided with the lab, rather than the dataset from the original source.\n",
        "\n",
        "The original dataset is a csv. We have converted the csv to json as per the requirement of the lab.\n"
      ]
    },
    {
      "cell_type": "markdown",
      "metadata": {
        "id": "c5cd851d-667d-4fec-8c35-61db6eb5bde8"
      },
      "source": [
        "## Warm-Up Exercise\n"
      ]
    },
    {
      "cell_type": "markdown",
      "metadata": {
        "id": "d7e5d096-7f65-40ba-80ee-10736d38b594"
      },
      "source": [
        "Before you attempt the actual lab, here is a fully solved warmup exercise that will help you to learn how to access an API.\n"
      ]
    },
    {
      "cell_type": "markdown",
      "metadata": {
        "id": "833e695b-a487-474e-9eed-c771b37f18b5"
      },
      "source": [
        "Using an API, let us find out who currently are on the International Space Station (ISS).<br> The API at [http://api.open-notify.org/astros.json](http://api.open-notify.org/astros.json?utm_medium=Exinfluencer&utm_source=Exinfluencer&utm_content=000026UJ&utm_term=10006555&utm_id=NA-SkillsNetwork-Channel-SkillsNetworkCoursesIBMDA0321ENSkillsNetwork21426264-2021-01-01&cm_mmc=Email_Newsletter-_-Developer_Ed%2BTech-_-WW_WW-_-SkillsNetwork-Courses-IBM-DA0321EN-SkillsNetwork-21426264&cm_mmca1=000026UJ&cm_mmca2=10006555&cm_mmca3=M12345678&cvosrc=email.Newsletter.M12345678&cvo_campaign=000026UJ) gives us the information of astronauts currently on ISS in json format.<br>\n",
        "You can read more about this API at [http://open-notify.org/Open-Notify-API/People-In-Space/](http://open-notify.org/Open-Notify-API/People-In-Space?utm_medium=Exinfluencer&utm_source=Exinfluencer&utm_content=000026UJ&utm_term=10006555&utm_id=NA-SkillsNetwork-Channel-SkillsNetworkCoursesIBMDA0321ENSkillsNetwork21426264-2021-01-01&cm_mmc=Email_Newsletter-_-Developer_Ed%2BTech-_-WW_WW-_-SkillsNetwork-Courses-IBM-DA0321EN-SkillsNetwork-21426264&cm_mmca1=000026UJ&cm_mmca2=10006555&cm_mmca3=M12345678&cvosrc=email.Newsletter.M12345678&cvo_campaign=000026UJ)\n"
      ]
    },
    {
      "cell_type": "code",
      "metadata": {
        "id": "413fffb3-c44b-41c1-a6d7-f4d68eac0bf0"
      },
      "outputs": [],
      "source": [
        "import requests # you need this module to make an API call\n",
        "import pandas as pd"
      ],
      "execution_count": 4
    },
    {
      "cell_type": "code",
      "metadata": {
        "id": "1a9f4ec8-e702-4f76-a128-1c2bb4c9926d"
      },
      "outputs": [],
      "source": [
        "api_url = \"http://api.open-notify.org/astros.json\" # this url gives use the astronaut data"
      ],
      "execution_count": 5
    },
    {
      "cell_type": "code",
      "metadata": {
        "id": "d10c067b-fbdb-4e6e-9234-48b47ab27b3a"
      },
      "outputs": [],
      "source": [
        "response = requests.get(api_url) # Call the API using the get method and store the\n",
        "                                # output of the API call in a variable called response."
      ],
      "execution_count": 6
    },
    {
      "cell_type": "code",
      "metadata": {
        "id": "94164308-a0ef-4e75-86a1-8d45765abc03"
      },
      "outputs": [],
      "source": [
        "if response.ok:             # if all is well() no errors, no network timeouts)\n",
        "    data = response.json()  # store the result in json format in a variable called data\n",
        "                            # the variable data is of type dictionary."
      ],
      "execution_count": 7
    },
    {
      "cell_type": "code",
      "metadata": {
        "colab": {
          "base_uri": "https://localhost:8080/"
        },
        "id": "6e9dbb26-c3ed-4768-a3bc-e141ad82dfed",
        "outputId": "2ae16438-9fd0-4909-eac0-7bb612702de7"
      },
      "outputs": [
        {
          "output_type": "stream",
          "name": "stdout",
          "text": [
            "{'people': [{'craft': 'ISS', 'name': 'Oleg Kononenko'}, {'craft': 'ISS', 'name': 'Nikolai Chub'}, {'craft': 'ISS', 'name': 'Tracy Caldwell Dyson'}, {'craft': 'ISS', 'name': 'Matthew Dominick'}, {'craft': 'ISS', 'name': 'Michael Barratt'}, {'craft': 'ISS', 'name': 'Jeanette Epps'}, {'craft': 'ISS', 'name': 'Alexander Grebenkin'}, {'craft': 'ISS', 'name': 'Butch Wilmore'}, {'craft': 'ISS', 'name': 'Sunita Williams'}, {'craft': 'Tiangong', 'name': 'Li Guangsu'}, {'craft': 'Tiangong', 'name': 'Li Cong'}, {'craft': 'Tiangong', 'name': 'Ye Guangfu'}], 'number': 12, 'message': 'success'}\n"
          ]
        }
      ],
      "source": [
        "print(data)   # print the data just to check the output or for debugging"
      ],
      "execution_count": 8
    },
    {
      "cell_type": "markdown",
      "metadata": {
        "id": "ff449237-ab94-484e-8c36-c6fea94e2096"
      },
      "source": [
        "Print the number of astronauts currently on ISS.\n"
      ]
    },
    {
      "cell_type": "code",
      "metadata": {
        "colab": {
          "base_uri": "https://localhost:8080/"
        },
        "id": "98f1a9b3-f830-4c5a-a9d8-9e1f9ef38751",
        "outputId": "24a8eb28-adc7-40a6-a36a-a6cd5d01c747"
      },
      "outputs": [
        {
          "output_type": "stream",
          "name": "stdout",
          "text": [
            "12\n"
          ]
        }
      ],
      "source": [
        "print(data.get('number'))"
      ],
      "execution_count": 9
    },
    {
      "cell_type": "markdown",
      "metadata": {
        "id": "dfe26c3f-39a8-47e8-bd0a-1e904593c369"
      },
      "source": [
        "Print the names of the astronauts currently on ISS.\n"
      ]
    },
    {
      "cell_type": "code",
      "metadata": {
        "colab": {
          "base_uri": "https://localhost:8080/"
        },
        "id": "345bf345-4bee-47ec-a4c8-fbad34e758ea",
        "outputId": "b6f9e852-3cfe-49b8-8e51-888ad31bded2"
      },
      "outputs": [
        {
          "output_type": "stream",
          "name": "stdout",
          "text": [
            "There are 12 astronauts on ISS\n",
            "And their names are :\n",
            "Oleg Kononenko\n",
            "Nikolai Chub\n",
            "Tracy Caldwell Dyson\n",
            "Matthew Dominick\n",
            "Michael Barratt\n",
            "Jeanette Epps\n",
            "Alexander Grebenkin\n",
            "Butch Wilmore\n",
            "Sunita Williams\n",
            "Li Guangsu\n",
            "Li Cong\n",
            "Ye Guangfu\n"
          ]
        }
      ],
      "source": [
        "astronauts = data.get('people')\n",
        "print(\"There are {} astronauts on ISS\".format(len(astronauts)))\n",
        "print(\"And their names are :\")\n",
        "for astronaut in astronauts:\n",
        "    print(astronaut.get('name'))"
      ],
      "execution_count": 10
    },
    {
      "cell_type": "markdown",
      "metadata": {
        "id": "31e9bc31-5e48-40e5-901a-cd783c973192"
      },
      "source": [
        "Hope the warmup was helpful. Good luck with your next lab!\n"
      ]
    },
    {
      "cell_type": "markdown",
      "metadata": {
        "id": "b6aad860-54d9-49cd-b2ec-66116d002888"
      },
      "source": [
        "## Lab: Collect Jobs Data using Jobs API\n"
      ]
    },
    {
      "cell_type": "markdown",
      "metadata": {
        "id": "2ce9ae48-8d59-45cc-9fbf-2d63092ba08f"
      },
      "source": [
        "### Objective: Determine the number of jobs currently open for various technologies  and for various locations\n"
      ]
    },
    {
      "cell_type": "markdown",
      "metadata": {
        "id": "ec19b819-ae2b-44ce-a6e6-a94c9fc159d2"
      },
      "source": [
        "Collect the number of job postings for the following locations using the API:\n",
        "\n",
        "* Los Angeles\n",
        "* New York\n",
        "* San Francisco\n",
        "* Washington DC\n",
        "* Seattle\n",
        "* Austin\n",
        "* Detroit\n"
      ]
    },
    {
      "cell_type": "code",
      "metadata": {
        "id": "8aaa8fcf-a338-4c1a-97c6-8380bd27f738"
      },
      "outputs": [],
      "source": [
        "#Import required libraries\n",
        "import pandas as pd\n",
        "import json\n"
      ],
      "execution_count": 11
    },
    {
      "cell_type": "markdown",
      "metadata": {
        "id": "a906befb-41e2-4505-a3cc-2bccfcd4f473"
      },
      "source": [
        "https://cf-courses-data.s3.us.cloud-object-storage.appdomain.cloud/IBM-DA0321EN-SkillsNetwork/labs/module%201/Accessing%20Data%20Using%20APIs/jobs.json#### Write a function to get the number of jobs for the Python technology.<br>\n",
        "> Note: While using the lab you need to pass the **payload** information for the **params** attribute in the form of **key** **value** pairs.\n",
        "  Refer the ungraded **rest api lab** in the course **Python for Data Science, AI & Development**  <a href=\"https://www.coursera.org/learn/python-for-applied-data-science-ai/ungradedLti/P6sW8/hands-on-lab-access-rest-apis-request-http?utm_medium=Exinfluencer&utm_source=Exinfluencer&utm_content=000026UJ&utm_term=10006555&utm_id=NA-SkillsNetwork-Channel-SkillsNetworkCoursesIBMDA0321ENSkillsNetwork928-2022-01-01\">link</a>\n",
        "  \n",
        " ##### The keys in the json are\n",
        " * Job Title\n",
        "\n",
        " * Job Experience Required\n",
        "\n",
        " * Key Skills\n",
        "\n",
        " * Role Category\n",
        "\n",
        " * Location\n",
        "\n",
        " * Functional Area\n",
        "\n",
        " * Industry\n",
        "\n",
        " * Role\n",
        "\n",
        "You can also view  the json file contents  from the following <a href = \"https://cf-courses-data.s3.us.cloud-object-storage.appdomain.cloud/IBM-DA0321EN-SkillsNetwork/labs/module%201/Accessing%20Data%20Using%20APIs/jobs.json\">json</a> URL.\n",
        "\n"
      ]
    },
    {
      "cell_type": "code",
      "metadata": {
        "id": "3e9fc6f0-4ea6-416c-8729-ef503100c4c6"
      },
      "outputs": [],
      "source": [
        "api_url=\"https://cf-courses-data.s3.us.cloud-object-storage.appdomain.cloud/IBM-DA0321EN-SkillsNetwork/labs/module%201/Accessing%20Data%20Using%20APIs/jobs.json\"\n",
        "\n",
        "def get_number_of_jobs_T(technology):\n",
        "    #your code goes here\n",
        "    response = requests.get(api_url)\n",
        "    if response.status_code != 200:\n",
        "        return technology, 0\n",
        "\n",
        "\n",
        "    data = response.json()\n",
        "\n",
        "    number_of_jobs = 0\n",
        "    for job in data:\n",
        "        if technology.lower() in job['Job Title'].lower():\n",
        "            number_of_jobs += 1\n",
        "\n",
        "    return technology, number_of_jobs\n",
        "\n",
        "\n",
        "\n"
      ],
      "execution_count": 56
    },
    {
      "cell_type": "markdown",
      "metadata": {
        "id": "9ff87671-78ac-44c9-9958-7560e456414f"
      },
      "source": [
        "Calling the function for Python and checking if it works.\n"
      ]
    },
    {
      "cell_type": "code",
      "metadata": {
        "colab": {
          "base_uri": "https://localhost:8080/"
        },
        "id": "690d79e3-71f5-42b9-aa31-db1751c52bc2",
        "outputId": "9fe3a49f-95cd-4c29-93b7-a974c210e504"
      },
      "outputs": [
        {
          "output_type": "execute_result",
          "data": {
            "text/plain": [
              "('Python', 191)"
            ]
          },
          "metadata": {},
          "execution_count": 57
        }
      ],
      "source": [
        "get_number_of_jobs_T(\"Python\")"
      ],
      "execution_count": 57
    },
    {
      "cell_type": "markdown",
      "metadata": {
        "id": "abfdb6d8-626a-4b83-9e7b-aece22108101"
      },
      "source": [
        "#### Write a function to find number of jobs in US for a location of your choice\n"
      ]
    },
    {
      "cell_type": "code",
      "metadata": {
        "id": "b86c8b0a-6b6e-4ad3-a6c3-b678fd076fcd"
      },
      "outputs": [],
      "source": [
        "def get_number_of_jobs_L(location):\n",
        "\n",
        "    #your coe goes here\n",
        "    response = requests.get(api_url)\n",
        "    if response.status_code != 200:\n",
        "       return location, 0\n",
        "    data = response.json()\n",
        "\n",
        "    number_of_jobs =0\n",
        "    for job in data:\n",
        "      if location.lower() in job['Location'].lower():\n",
        "          number_of_jobs += 1\n",
        "    return location,number_of_jobs\n",
        "\n",
        ""
      ],
      "execution_count": 62
    },
    {
      "cell_type": "markdown",
      "metadata": {
        "id": "ee968ba3-78be-4e05-a75d-4bc18c1b6756"
      },
      "source": [
        "Call the function for Los Angeles and check if it is working.\n"
      ]
    },
    {
      "cell_type": "code",
      "metadata": {
        "colab": {
          "base_uri": "https://localhost:8080/"
        },
        "id": "1aeac7f3-6977-453b-863b-0b9f9820fd06",
        "outputId": "61364de5-e021-4816-d659-1a298efb6d3f"
      },
      "outputs": [
        {
          "output_type": "execute_result",
          "data": {
            "text/plain": [
              "('Los Angeles', 640)"
            ]
          },
          "metadata": {},
          "execution_count": 63
        }
      ],
      "source": [
        "#your code goes here\n",
        "get_number_of_jobs_L(\"Los Angeles\")"
      ],
      "execution_count": 63
    },
    {
      "cell_type": "markdown",
      "metadata": {
        "id": "9b2bbd6e-f198-4b50-b888-6d709b3c6a93"
      },
      "source": [
        "### Store the results in an excel file\n"
      ]
    },
    {
      "cell_type": "markdown",
      "metadata": {
        "id": "8aa5d61a-99fe-462d-be7b-0e1e77848ae6"
      },
      "source": [
        "Call the API for all the given technologies above and write the results in an excel spreadsheet.\n"
      ]
    },
    {
      "cell_type": "markdown",
      "metadata": {
        "id": "14863695-7c8b-4e4e-a27a-66ef81a214e7"
      },
      "source": [
        "If you do not know how create excel file using python, double click here for **hints**.\n",
        "\n",
        "<!--\n",
        "\n",
        "from openpyxl import Workbook        # import Workbook class from module openpyxl\n",
        "wb=Workbook()                        # create a workbook object\n",
        "ws=wb.active                         # use the active worksheet\n",
        "ws.append(['Country','Continent'])   # add a row with two columns 'Country' and 'Continent'\n",
        "ws.append(['Eygpt','Africa'])        # add a row with two columns 'Egypt' and 'Africa'\n",
        "ws.append(['India','Asia'])          # add another row\n",
        "ws.append(['France','Europe'])       # add another row\n",
        "wb.save(\"countries.xlsx\")            # save the workbook into a file called countries.xlsx\n",
        "\n",
        "\n",
        "-->\n"
      ]
    },
    {
      "cell_type": "markdown",
      "metadata": {
        "id": "7a442650-a1c4-449b-a848-ecd9a8012130"
      },
      "source": [
        "Create a python list of all technologies for which you need to find the number of jobs postings.\n"
      ]
    },
    {
      "cell_type": "code",
      "metadata": {
        "id": "9e119afb-09bb-4661-937e-4fcca84b9ce8"
      },
      "outputs": [],
      "source": [
        "#your code goes here\n",
        "States = ['Los Angeles',\n",
        "'New York',\n",
        "'San Francisco',\n",
        "'Washington DC',\n",
        "'Seattle',\n",
        "'Austin',\n",
        "'Detroit']"
      ],
      "execution_count": 87
    },
    {
      "cell_type": "markdown",
      "metadata": {
        "id": "7856a3cf-f3fb-4b58-a5fb-aad34672980b"
      },
      "source": [
        "Import libraries required to create excel spreadsheet\n"
      ]
    },
    {
      "cell_type": "code",
      "metadata": {
        "colab": {
          "base_uri": "https://localhost:8080/"
        },
        "id": "5594c651-5695-4f5c-b13a-d620c5bc1c4e",
        "outputId": "7f6801db-4555-4269-a668-1ab0ee04e2ee"
      },
      "outputs": [
        {
          "output_type": "stream",
          "name": "stdout",
          "text": [
            "Requirement already satisfied: openpyxl in /usr/local/lib/python3.11/dist-packages (3.1.5)\n",
            "Requirement already satisfied: et-xmlfile in /usr/local/lib/python3.11/dist-packages (from openpyxl) (2.0.0)\n"
          ]
        }
      ],
      "source": [
        "# your code goes here\n",
        "!pip install openpyxl\n",
        "from openpyxl import workbook"
      ],
      "execution_count": 84
    },
    {
      "cell_type": "markdown",
      "metadata": {
        "id": "a940706a-c971-4b44-84fb-e9ed37b7965f"
      },
      "source": [
        "Create a workbook and select the active worksheet\n"
      ]
    },
    {
      "cell_type": "code",
      "metadata": {
        "id": "e92dd8bf-1c83-4795-b20b-2b64a80d1506"
      },
      "outputs": [],
      "source": [
        "# your code goes here\n",
        "wb=workbook.Workbook()\n",
        "ws=wb.active\n",
        "\n"
      ],
      "execution_count": 85
    },
    {
      "cell_type": "markdown",
      "metadata": {
        "id": "5fd751aa-8bdc-4090-a720-834136f14867"
      },
      "source": [
        "Find the number of jobs postings for each of the technology in the above list.\n",
        "Write the technology name and the number of jobs postings into the excel spreadsheet.\n"
      ]
    },
    {
      "cell_type": "code",
      "source": [],
      "metadata": {
        "id": "3HrrxJV-f_bd"
      },
      "execution_count": null,
      "outputs": []
    },
    {
      "cell_type": "code",
      "source": [
        "def get_number_of_jobs_from_states(technology, locations):\n",
        "    response = requests.get(api_url)\n",
        "    if response.status_code != 200:\n",
        "       return[]\n",
        "\n",
        "    data = response.json()\n",
        "\n",
        "    number_of_jobs = {state: 0 for state in locations}\n",
        "\n",
        "    for job in data:\n",
        "        job_title = job.get('Job Title', '').lower()\n",
        "        job_location = job.get('Location', '')\n",
        "\n",
        "        if technology.lower() in job_title:\n",
        "            for state in locations:\n",
        "                if state.lower() in job_location.lower():\n",
        "                   number_of_jobs[state] += 1\n",
        "\n",
        "    return number_of_jobs\n",
        "\n"
      ],
      "metadata": {
        "id": "5rjYZ9XHgCVN"
      },
      "execution_count": 124,
      "outputs": []
    },
    {
      "cell_type": "markdown",
      "metadata": {
        "id": "9879adb5-7950-4c6b-9b3a-aebb0bfe17e6"
      },
      "source": [
        "Save into an excel spreadsheet named **job-postings.xlsx**.\n"
      ]
    },
    {
      "cell_type": "code",
      "metadata": {
        "colab": {
          "base_uri": "https://localhost:8080/"
        },
        "id": "ca85fea4-c1e5-4042-acc5-38313e10478e",
        "outputId": "24cb462e-953d-4324-8092-364091f55a9e"
      },
      "outputs": [
        {
          "output_type": "execute_result",
          "data": {
            "text/plain": [
              "{'Los Angeles': 4,\n",
              " 'New York': 21,\n",
              " 'San Francisco': 1,\n",
              " 'Washington DC': 38,\n",
              " 'Seattle': 24,\n",
              " 'Austin': 3,\n",
              " 'Detroit': 27}"
            ]
          },
          "metadata": {},
          "execution_count": 125
        }
      ],
      "source": [
        "#your code goes here\n",
        "get_number_of_jobs_from_states(\"Python\", States)"
      ],
      "execution_count": 125
    },
    {
      "cell_type": "markdown",
      "metadata": {
        "id": "149421d6-cd6f-43f4-bd4a-bc962ce1aa67"
      },
      "source": [
        "#### In the similar way, you can try for below given technologies and results  can be stored in an excel sheet.\n"
      ]
    },
    {
      "cell_type": "markdown",
      "metadata": {
        "id": "49189398-aa9b-47fb-bce8-0532f3b43f5d"
      },
      "source": [
        "Collect the number of job postings for the following languages using the API:\n",
        "\n",
        "*   C\n",
        "*   C#\n",
        "*   C++\n",
        "*   Java\n",
        "*   JavaScript\n",
        "*   Python\n",
        "*   Scala\n",
        "*   Oracle\n",
        "*   SQL Server\n",
        "*   MySQL Server\n",
        "*   PostgreSQL\n",
        "*   MongoDB\n"
      ]
    },
    {
      "cell_type": "code",
      "metadata": {
        "colab": {
          "base_uri": "https://localhost:8080/"
        },
        "id": "a08228a2-a226-43ee-9a1a-86cfacd7be2b",
        "outputId": "fcacf030-191d-42f1-f04a-e7d667058cf6"
      },
      "outputs": [
        {
          "output_type": "execute_result",
          "data": {
            "text/plain": [
              "[['C', 12486, 14008, 8616, 14008, 9099, 12486],\n",
              " ['C#', 82, 83, 62, 83, 57, 82],\n",
              " ['C++', 50, 64, 39, 64, 41, 50],\n",
              " ['Java', 700, 755, 465, 755, 490, 700],\n",
              " ['JavaScript', 86, 79, 50, 79, 52, 86],\n",
              " ['Python', 138, 147, 85, 147, 89, 138],\n",
              " ['Scala', 17, 18, 9, 18, 6, 17],\n",
              " ['Oracle', 145, 149, 104, 149, 98, 145],\n",
              " ['SQL Server', 24, 29, 18, 29, 26, 24],\n",
              " ['MySQL Server', 0, 0, 0, 0, 0, 0],\n",
              " ['PostgreSQL', 2, 3, 0, 3, 1, 2],\n",
              " ['MongoDB', 10, 11, 4, 11, 8, 10]]"
            ]
          },
          "metadata": {},
          "execution_count": 123
        }
      ],
      "source": [
        "# your code goes here\n",
        "languages = [\n",
        "'C',\n",
        "'C#',\n",
        "'C++',\n",
        "'Java',\n",
        "'JavaScript',\n",
        "'Python',\n",
        "'Scala',\n",
        "'Oracle',\n",
        "'SQL Server',\n",
        "'MySQL Server',\n",
        "'PostgreSQL',\n",
        "'MongoDB'\n",
        "]\n",
        "\n",
        "def get_number_of_jobs_for_languages_in_states(languages, locations):\n",
        "    response = requests.get(api_url)\n",
        "    if response.status_code != 200:\n",
        "        return []\n",
        "\n",
        "    data = response.json()\n",
        "\n",
        "    result = []\n",
        "\n",
        "    for language in languages:\n",
        "        job_counts = [language]\n",
        "        for state in locations:\n",
        "            count = 0\n",
        "            for job in data:\n",
        "                job_title = job.get('Job Title', '').lower()\n",
        "                job_location = job.get('Location', '').lower()\n",
        "                if language.lower() in job_title and state.lower() in job_location:\n",
        "                    count += 1\n",
        "            job_counts.append(count)\n",
        "        result.append(job_counts)\n",
        "\n",
        "    return result\n",
        "\n",
        "get_number_of_jobs_for_languages_in_states(languages, \"states\")"
      ],
      "execution_count": 123
    },
    {
      "cell_type": "markdown",
      "metadata": {
        "id": "afe8d3da-24d0-4331-a2ee-ec197a67ceb2"
      },
      "source": [
        "## Authors\n"
      ]
    },
    {
      "cell_type": "markdown",
      "metadata": {
        "id": "8c45f9be-8375-42b2-8b38-0294ba78d87d"
      },
      "source": [
        "Ayushi Jain\n"
      ]
    },
    {
      "cell_type": "markdown",
      "metadata": {
        "id": "adc403d7-189a-42b8-bec5-1e1ddfd1ebb6"
      },
      "source": [
        "### Other Contributors\n"
      ]
    },
    {
      "cell_type": "markdown",
      "metadata": {
        "id": "91bd856b-d881-4a91-a4dd-e9a929c65e87"
      },
      "source": [
        "Rav Ahuja\n",
        "\n",
        "Lakshmi Holla\n",
        "\n",
        "Malika\n"
      ]
    },
    {
      "cell_type": "markdown",
      "metadata": {
        "id": "e6fedeb1-9b2b-4e99-b480-6d9397b8b8af"
      },
      "source": [
        "Copyright © IBM Corporation.\n"
      ]
    },
    {
      "cell_type": "markdown",
      "metadata": {
        "id": "ad5eceed-7e2b-48e6-b3f6-7978978464d5"
      },
      "source": [
        "<!--## Change Log\n"
      ]
    },
    {
      "cell_type": "markdown",
      "metadata": {
        "id": "9457b0db-bbba-4bb3-b6b8-ed3af4fd8e81"
      },
      "source": [
        "<!--| Date (YYYY-MM-DD) | Version | Changed By        | Change Description                 |\n",
        "| ----------------- | ------- | ----------------- | ---------------------------------- |\n",
        "| 2022-01-19        | 0.3     | Lakshmi Holla        | Added changes in the markdown      |\n",
        "| 2021-06-25        | 0.2     | Malika            | Updated GitHub job json link       |\n",
        "| 2020-10-17        | 0.1     | Ramesh Sannareddy | Created initial version of the lab |--!>\n"
      ]
    }
  ],
  "metadata": {
    "kernelspec": {
      "display_name": "Python",
      "language": "python",
      "name": "conda-env-python-py"
    },
    "language_info": {
      "codemirror_mode": {
        "name": "ipython",
        "version": 3
      },
      "file_extension": ".py",
      "mimetype": "text/x-python",
      "name": "python",
      "nbconvert_exporter": "python",
      "pygments_lexer": "ipython3",
      "version": "3.7.12"
    },
    "prev_pub_hash": "61a35a07ad98492b710274ae0e52a0fdce2221e88e366133dd4a20370680fa8f",
    "colab": {
      "provenance": [],
      "toc_visible": true
    }
  },
  "nbformat": 4,
  "nbformat_minor": 0
}